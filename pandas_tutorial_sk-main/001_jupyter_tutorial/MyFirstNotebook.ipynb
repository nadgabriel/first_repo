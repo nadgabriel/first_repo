{
 "cells": [
  {
   "cell_type": "markdown",
   "metadata": {},
   "source": [
    "# Toto je notebook s ukazkou vyuzitia nastroja jupytert (toto je nadpis)\n",
    "## Toto je podnadpis \n",
    "Po kliknuti na tuto bunku sa dostanete do jej zdrojoveho kopu. Pre formatovany vypis bunky stlacte __ctrl+enter__ alebo __shift+enter__\n",
    "Nizsie vidite pouzitie buniek s python kodom. Kod funguje presne ako v predchadzajucich kurzoch\n",
    "\n",
    "Ak chcete jupyter notebook vypnut prepnite sa do cmd a stlacte __ctrl+c__ ak cmd neraguje stlacte to niekolkokrat a za tym stlacte enter\n",
    "\n",
    "Toto je takzvany bullet list, alebo odrazky\n",
    "- element 1\n",
    "- element 2"
   ]
  },
  {
   "cell_type": "code",
   "execution_count": 1,
   "metadata": {},
   "outputs": [],
   "source": [
    "def hello_world():\n",
    "    print(\"Hello world\")"
   ]
  },
  {
   "cell_type": "code",
   "execution_count": 2,
   "metadata": {},
   "outputs": [
    {
     "name": "stdout",
     "output_type": "stream",
     "text": [
      "Hello world\n"
     ]
    }
   ],
   "source": [
    "hello_world()"
   ]
  },
  {
   "cell_type": "markdown",
   "metadata": {},
   "source": [
    "Vsimnite si ze nepotrebujem pouzivat print, jupyter notebook vzdy vypise navratovu hodnotu poslednej bunky."
   ]
  },
  {
   "cell_type": "code",
   "execution_count": 3,
   "metadata": {},
   "outputs": [
    {
     "data": {
      "text/plain": [
       "3"
      ]
     },
     "execution_count": 3,
     "metadata": {},
     "output_type": "execute_result"
    }
   ],
   "source": [
    "x=5\n",
    "y=3\n",
    "x\n",
    "y"
   ]
  },
  {
   "cell_type": "code",
   "execution_count": 4,
   "metadata": {},
   "outputs": [
    {
     "data": {
      "text/plain": [
       "5"
      ]
     },
     "execution_count": 4,
     "metadata": {},
     "output_type": "execute_result"
    }
   ],
   "source": [
    "x"
   ]
  }
 ],
 "metadata": {
  "kernelspec": {
   "display_name": "Python 3",
   "language": "python",
   "name": "python3"
  },
  "language_info": {
   "codemirror_mode": {
    "name": "ipython",
    "version": 3
   },
   "file_extension": ".py",
   "mimetype": "text/x-python",
   "name": "python",
   "nbconvert_exporter": "python",
   "pygments_lexer": "ipython3",
   "version": "3.8.6"
  }
 },
 "nbformat": 4,
 "nbformat_minor": 4
}
